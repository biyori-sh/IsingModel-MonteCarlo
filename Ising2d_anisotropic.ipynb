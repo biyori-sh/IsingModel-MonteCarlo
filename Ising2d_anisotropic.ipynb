{
 "cells": [
  {
   "cell_type": "markdown",
   "metadata": {},
   "source": [
    "# 異方的相互作用を含む2次元Ising模型\n",
    "横方向の交換相互作用$J_h$と縦方向の交換相互作用$J_v$とが区別される。\n",
    "\n",
    "# Two-dimensional Ising model with anisotropic interactions\n",
    "$J_h$ and $J_v$ denotes a coupling constant for horizontal and vertical direction respectively.\n",
    "For convenience, we introduce the following normalized quantities, $K = T/J_h, R = J_v/J_h, h_n = h/J_h$, where $T$ is temperature and $h$ is an external field.\n",
    "\n",
    "The critical temprature $T_c$ is given by\n",
    "$$ \\sinh \\left(2J_h/T_c\\right) \\sinh \\left(2J_v/T_c\\right) = 1. $$\n",
    "For the above notation, this formula is rewritten as\n",
    "$$ \\sinh \\left(2/K_c\\right) \\sinh \\left(2R/K_c\\right) = 1, $$\n",
    "where $K_c$ denotes a normalized critical temperature.\n",
    "\n",
    "## 参考 Ref.\n",
    "[Two dimensional Ising Model @Wikipedia](https://en.wikipedia.org/wiki/Ising_model#Two_dimensions)"
   ]
  },
  {
   "cell_type": "code",
   "execution_count": 19,
   "metadata": {
    "ExecuteTime": {
     "end_time": "2020-05-12T09:09:16.235536Z",
     "start_time": "2020-05-12T09:09:16.153681Z"
    }
   },
   "outputs": [],
   "source": [
    "import numpy as np\n",
    "from numba import jit\n",
    "import matplotlib.pyplot as plt\n",
    "import seaborn as sns\n",
    "\n",
    "# the anisotropic Ising model　in two dimensions\n",
    "# the exchange interactions J_h and J_v (horizontal and vertical direction)  \n",
    "\n",
    "@jit\n",
    "def initial_config(size_lat):\n",
    "    \"generate the initial spin configuration\"\n",
    "    return 2*(np.random.randint(0, 2, size=(size_lat, size_lat))-1/2)\n",
    "\n",
    "@jit\n",
    "def hamiltonian(arr_spin, rate_coupling, ex_field_normalized):\n",
    "    \"function to calculate a normalized Hamiltonian of the Ising model\"\n",
    "    n0, n1 = np.shape(arr_spin)\n",
    "    energy_normalized = 0.0\n",
    "    for i in range(-1,n0-1):\n",
    "        for j in range(-1,n1-1):\n",
    "            energy_normalized += -(arr_spin[i][j]*arr_spin[i][j+1] + rate_coupling*arr_spin[i][j]*arr_spin[i+1][j])\n",
    "    energy_normalized += -ex_field_normalized*np.sum(arr_spin)\n",
    "    return energy_normalized\n",
    "\n",
    "@jit\n",
    "def diff_hamiltonian(arr_spin, n0, n1, i, j, rate_coupling, ex_field_normalized):\n",
    "    \"\"\"\n",
    "    function to calculate a difference of the normalized Hamiltonian\n",
    "    this function does not flip the spin (no side-effect, spin_flip(arr_spin, i, j) plays its role)\n",
    "    \"\"\"\n",
    "    return 2*(rate_coupling*(arr_spin[i][j]*arr_spin[i-1][j] + arr_spin[i][j]*arr_spin[-n0+i+1][j])\n",
    "              + (arr_spin[i][j]*arr_spin[i][j-1] + arr_spin[i][j]*arr_spin[i][-n1+j+1])\n",
    "              + ex_field_normalized*arr_spin[i][j])\n",
    "\n",
    "@jit\n",
    "def spin_flip(arr_spin, i, j):\n",
    "    \"subroutine to flip the spin we designated\"\n",
    "    arr_spin[i][j] = -arr_spin[i][j]\n",
    "\n",
    "@jit\n",
    "def update_config(arr_spin, n0, n1, energy_normalized, temp_normalized, rate_coupling, ex_field_normalized):\n",
    "    \"\"\"\n",
    "    subroutine to update the spin configuration with the Metropolis method and output the noermalized energy\n",
    "    side-effect：updating the spin configuration\n",
    "    \"\"\"\n",
    "    for i in range(0,n0):\n",
    "        for j in range(0,n1):\n",
    "            diff_energy = diff_hamiltonian(arr_spin, n0, n1, i, j, rate_coupling, ex_field_normalized)\n",
    "            if diff_energy <= 0:\n",
    "                energy_normalized += diff_energy\n",
    "                spin_flip(arr_spin, i, j)\n",
    "            elif np.random.rand() < np.exp(-diff_energy/temp_normalized):\n",
    "                energy_normalized += diff_energy\n",
    "                spin_flip(arr_spin, i, j)\n",
    "    return energy_normalized\n",
    "\n",
    "def magnetization_plot(size_lat, temp_min, temp_max, rate_coupling, ex_field_normalized):\n",
    "    \"\"\"\n",
    "    plot the magnetization per one site on a temperature-magnetization plane\n",
    "    \"\"\"\n",
    "    num_update = 10000 # the maximum of the number of updates\n",
    "    num_update_eq = 2000 # the number of updates to thermalize in num_update\n",
    "    mag_lst =[] # the list of magnetizations per site for each temperature\n",
    "    mag_sample = [] # the sample of magnetizations per cite measured in the equilibrium state\n",
    "    temp_step = 100 # the number of steps of the temperature to measure the magnetization\n",
    "    temp_lst = np.flip(np.linspace(temp_min, temp_max, temp_step)) # the list of temperature to plot\n",
    "    \n",
    "    arr_spin = initial_config(size_lat) # generate the initial spin configuration\n",
    "    n0, n1 = np.shape(arr_spin)\n",
    "    energy = hamiltonian(arr_spin, rate_coupling, ex_field_normalized) # energy at the initial spin configuration\n",
    "\n",
    "    for temp_tmp in temp_lst:\n",
    "        mag_sample = []\n",
    "        # thermalize\n",
    "        for i in range(0, num_update_eq):\n",
    "            energy=update_config(arr_spin, n0, n1, energy, temp_tmp, rate_coupling, ex_field_normalized)\n",
    "        # measure the magnetization in the equilibrium state\n",
    "        for i in range(0, num_update - num_update_eq):\n",
    "            energy=update_config(arr_spin, n0, n1, energy, temp_tmp, rate_coupling, ex_field_normalized)\n",
    "            energy=update_config(arr_spin, n0, n1, energy, temp_tmp, rate_coupling, ex_field_normalized)\n",
    "            mag_sample.append(np.sum(arr_spin)/len(arr_spin)**2)\n",
    "\n",
    "        mag_lst.append(np.mean(mag_sample))\n",
    "    \n",
    "    # plot\n",
    "    plt.plot(temp_lst, mag_lst)\n",
    "    plt.grid(True)\n",
    "    plt.ylabel(\"magnetization per cite\")\n",
    "    plt.xlabel(\"T / J_h\")\n",
    "    plt.xlim(round(temp_min,1), temp_max)\n",
    "    plt.show()\n"
   ]
  },
  {
   "cell_type": "code",
   "execution_count": 9,
   "metadata": {
    "ExecuteTime": {
     "end_time": "2020-05-12T08:53:54.003944Z",
     "start_time": "2020-05-12T08:53:53.456854Z"
    }
   },
   "outputs": [
    {
     "data": {
      "image/png": "[encoded data removed]",
      "text/plain": [
       "<Figure size 432x288 with 1 Axes>"
      ]
     },
     "metadata": {
      "needs_background": "light"
     },
     "output_type": "display_data"
    }
   ],
   "source": [
    "from scipy import optimize\n",
    "\n",
    "def cri_temp(rate_coupling):\n",
    "    return lambda k_c: np.sinh(2/k_c) * np.sinh(2*rate_coupling/k_c) - 1.0\n",
    "\n",
    "lst_rate_coupling = np.linspace(0.001, 2.0, 1000)\n",
    "lst_critical_temp = [optimize.newton(cri_temp(rate_coupling), 0.5) for rate_coupling in lst_rate_coupling]\n",
    "\n",
    "temp_critical = 2/(np.log(1+np.sqrt(2)))\n",
    "lst_critical_constant = [temp_critical for i in range(1000)]\n",
    "\n",
    "# the critical temperature in the anisotropic Ising model (fixed to J_h = 1.0)\n",
    "plt.plot(lst_rate_coupling, lst_critical_temp)\n",
    "plt.plot(lst_rate_coupling, lst_critical_constant)\n",
    "plt.grid(True)\n",
    "plt.ylabel(\"temperature_c/coupling_h\")\n",
    "plt.xlabel(\"coupling_v/coupling_h\")\n",
    "plt.xlim(0, 2.0)\n",
    "plt.show()"
   ]
  },
  {
   "cell_type": "code",
   "execution_count": 10,
   "metadata": {
    "ExecuteTime": {
     "end_time": "2020-05-12T08:55:00.892678Z",
     "start_time": "2020-05-12T08:54:59.794570Z"
    }
   },
   "outputs": [
    {
     "name": "stdout",
     "output_type": "stream",
     "text": [
      "30.0\n",
      "0.017447199265381085\n"
     ]
    },
    {
     "data": {
      "text/plain": [
       "<matplotlib.axes._subplots.AxesSubplot at 0x7fb27373b320>"
      ]
     },
     "execution_count": 10,
     "metadata": {},
     "output_type": "execute_result"
    },
    {
     "data": {
      "image/png": "[encoded data removed]",
      "text/plain": [
       "<Figure size 432x288 with 1 Axes>"
      ]
     },
     "metadata": {},
     "output_type": "display_data"
    }
   ],
   "source": [
    "a=initial_config(99)\n",
    "a0, a1 = np.shape(a)\n",
    "e=hamiltonian(a, 1, 0.0)\n",
    "print(e)\n",
    "print(np.sum(a)/len(a)**2)\n",
    "\n",
    "plt.figure()\n",
    "sns.heatmap(a, cbar=False, square=True, xticklabels=False, yticklabels=False)"
   ]
  },
  {
   "cell_type": "code",
   "execution_count": 13,
   "metadata": {
    "ExecuteTime": {
     "end_time": "2020-05-12T08:56:01.494425Z",
     "start_time": "2020-05-12T08:56:00.287371Z"
    }
   },
   "outputs": [
    {
     "name": "stdout",
     "output_type": "stream",
     "text": [
      "mag: 0.008264462809917356\n",
      "mag: -0.006223854708703193\n",
      "mag: -0.00030609121518212427\n",
      "mag: -0.007448219569431691\n",
      "mag: -0.002346699316396286\n",
      "mag: 0.0007142128354249566\n",
      "mag: 0.008060401999795939\n",
      "mag: -0.0013263952657892053\n",
      "mag: -0.004183246607489032\n",
      "mag: -0.0005101520253035404\n",
      "CPU times: user 1.12 s, sys: 0 ns, total: 1.12 s\n",
      "Wall time: 1.11 s\n"
     ]
    },
    {
     "data": {
      "image/png": "[encoded data removed]",
      "text/plain": [
       "<Figure size 432x288 with 1 Axes>"
      ]
     },
     "metadata": {},
     "output_type": "display_data"
    }
   ],
   "source": [
    "%%time\n",
    "t_c = 2.0/np.log(np.sqrt(2.0)+1)\n",
    "for i in range(0,1000):\n",
    "    e=update_config(a, a0, a1, e, t_c, -1.0, 0.0)\n",
    "    if i%100==0 :\n",
    "        print(\"mag: \" + str(np.sum(a)/len(a)**2))\n",
    "plt.figure()\n",
    "sns.heatmap(a, cbar=False, vmax=1, vmin=-1, square=True, xticklabels=False, yticklabels=False)"
   ]
  },
  {
   "cell_type": "code",
   "execution_count": 24,
   "metadata": {
    "ExecuteTime": {
     "end_time": "2020-05-12T09:26:37.088837Z",
     "start_time": "2020-05-12T09:19:52.352228Z"
    }
   },
   "outputs": [
    {
     "name": "stdout",
     "output_type": "stream",
     "text": [
      "vertical/horizontal: 0.5\n"
     ]
    },
    {
     "data": {
      "image/png": "[encoded data removed]",
      "text/plain": [
       "<Figure size 432x288 with 1 Axes>"
      ]
     },
     "metadata": {
      "needs_background": "light"
     },
     "output_type": "display_data"
    },
    {
     "name": "stdout",
     "output_type": "stream",
     "text": [
      "CPU times: user 6min 46s, sys: 992 ms, total: 6min 47s\n",
      "Wall time: 6min 44s\n"
     ]
    }
   ],
   "source": [
    "%%time\n",
    "rate = 0.5\n",
    "print(\"vertical/horizontal: \" + str(rate))\n",
    "magnetization_plot(64, 0.01, 4.0, rate, 0)"
   ]
  },
  {
   "cell_type": "code",
   "execution_count": null,
   "metadata": {},
   "outputs": [],
   "source": []
  }
 ],
 "metadata": {
  "kernelspec": {
   "display_name": "venv35",
   "language": "python",
   "name": "venv35"
  },
  "language_info": {
   "codemirror_mode": {
    "name": "ipython",
    "version": 3
   },
   "file_extension": ".py",
   "mimetype": "text/x-python",
   "name": "python",
   "nbconvert_exporter": "python",
   "pygments_lexer": "ipython3",
   "version": "3.5.2"
  }
 },
 "nbformat": 4,
 "nbformat_minor": 2
}
