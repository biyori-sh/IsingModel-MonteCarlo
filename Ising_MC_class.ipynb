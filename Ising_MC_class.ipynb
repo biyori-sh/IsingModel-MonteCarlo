{
 "cells": [
  {
   "cell_type": "markdown",
   "metadata": {},
   "source": [
    "# Ising Model のモンテカルロ・シミュレーション（Class）\n",
    "\n",
    "Classで実装したIsing Modelのモンテカルロ・シミュレーションのコード。\n",
    "コードを書いた人はClassの使い方に慣れていません。\n",
    "\n",
    "シミュレーションできるIsing Modelの次元は引数で簡単に変えられるようにしていますが、最適化がされていないのでとても遅いコードになっています。\n",
    "\n",
    "# Monte Carlo simulation of the Ising model implemented by Classes\n",
    "\n",
    "Codes to simulate the Ising model of arbitrary dimensions by changing arguments.\n",
    "The codes are not optimized, so they are very slow. "
   ]
  },
  {
   "cell_type": "code",
   "execution_count": 1,
   "metadata": {
    "ExecuteTime": {
     "end_time": "2020-05-17T05:35:02.739993Z",
     "start_time": "2020-05-17T05:35:02.728326Z"
    },
    "code_folding": []
   },
   "outputs": [],
   "source": [
    "import numpy as np\n",
    "\n",
    "# trials\n",
    "def position_as_1dim(position_tpl, lat_size):        \n",
    "    position_1dim = 0\n",
    "    num_of_elms = np.product(lat_size)\n",
    "    tmp = 1\n",
    "    for i, j in zip(position_tpl, lat_size):\n",
    "        tmp *= j\n",
    "        position_1dim += i * num_of_elms//tmp\n",
    "    return position_1dim\n",
    "\n",
    "def neighbor_position_1dim(position_tpl, lat_size, distance):\n",
    "    lst_positions = []\n",
    "    num_of_elms = np.product(lat_size)\n",
    "    dim = len(lat_size)\n",
    "    for cnt1 in np.arange(dim):\n",
    "        position_1dim = 0\n",
    "        tmp = 1\n",
    "        for i, j, cnt2 in zip(position_tpl, lat_size, np.arange(dim)):\n",
    "            d = distance if cnt1 == cnt2 else 0\n",
    "            tmp *= j\n",
    "            position_1dim += np.mod(i+d, j) * num_of_elms//tmp\n",
    "        lst_positions.append(position_1dim)\n",
    "    return lst_positions"
   ]
  },
  {
   "cell_type": "code",
   "execution_count": 2,
   "metadata": {
    "ExecuteTime": {
     "end_time": "2020-05-17T05:38:54.272810Z",
     "start_time": "2020-05-17T05:38:52.282155Z"
    }
   },
   "outputs": [],
   "source": [
    "import numpy as np\n",
    "from numba import jit, jitclass, i8, f8\n",
    "import matplotlib.pyplot as plt\n",
    "import seaborn as sns\n",
    "\n",
    "# main\n",
    "class IsingModel_MC(object):\n",
    "    def __init__(self, lat_size_lst):\n",
    "        self.lat_size = lat_size_lst # list\n",
    "        self.dim = len(lat_size_lst)\n",
    "        self.num_of_elms = np.product(lat_size_lst)\n",
    "        self.spin_config1dim = 2 * np.random.randint(0, 2, size=np.product(lat_size_lst), dtype=np.int) -1\n",
    "        self.energy = 0.0\n",
    "        self.coupling= 1.0\n",
    "        self.ex_field = 0.0\n",
    "        self.temp = 2/np.log(np.sqrt(2)+1)\n",
    "\n",
    "    def display_heatmap(self):\n",
    "        if self.dim == 2:\n",
    "            plt.figure()\n",
    "            sns.heatmap(self.spin_config1dim.reshape(self.lat_size),\n",
    "                        cbar=False, square=True, xticklabels=False, yticklabels=False)\n",
    "        else:\n",
    "            print(\"Available for only 2 dimensions.\")\n",
    "\n",
    "    def set_energy(self):\n",
    "        self.energy = 0.0\n",
    "        spin_config = self.spin_config1dim.reshape(self.lat_size)\n",
    "        for i in np.arange(self.dim, dtype=np.int):\n",
    "            self.energy += np.sum(-self.coupling * spin_config * np.roll(spin_config, 1, axis=i))\n",
    "        self.energy += np.sum(-self.ex_field * spin_config)\n",
    "\n",
    "    def initialize(self, finite_temp = True):\n",
    "        if finite_temp:\n",
    "            self.spin_config1dim = 2 * np.random.randint(0, 2, size=self.num_of_elms, dtype=np.int) -1\n",
    "        else:\n",
    "            self.spin_config1dim = np.ones(self.num_of_elms, dtype=np.int) * np.random.choice([-1,1])\n",
    "        self.set_energy()\n",
    "\n",
    "    def _flip_spin(self, position):\n",
    "        self.spin_config1dim[position] = -self.spin_config1dim[position]\n",
    "\n",
    "    def _convert_to_tpl(self, position1dim):\n",
    "        lst = []\n",
    "        tmp, tmp_pos = self.num_of_elms, position1dim\n",
    "        for i, j in zip(self.lat_size, np.arange(self.dim-1)):\n",
    "            tmp //= i\n",
    "            if j == self.dim-2:\n",
    "                lst.extend(divmod(tmp_pos, tmp))\n",
    "            else:\n",
    "                lst.append(tmp_pos//tmp)\n",
    "                tmp_pos %= tmp\n",
    "        return tuple(lst)\n",
    "\n",
    "    def _neighborhoods1dim_lst(self, position1dim, distance):\n",
    "        position_tpl = self._convert_to_tpl(position1dim)\n",
    "        lst_positions = []\n",
    "        for cnt1 in np.arange(self.dim):\n",
    "            pos1dim_minus, pos1dim_plus, tmp = 0, 0, self.num_of_elms\n",
    "            for i, j, cnt2 in zip(position_tpl, self.lat_size, np.arange(self.dim)):\n",
    "                d = distance if cnt1 == cnt2 else 0\n",
    "                tmp //= j\n",
    "                pos1dim_minus += np.mod(i-d, j) * tmp\n",
    "                pos1dim_plus += np.mod(i+d, j) * tmp\n",
    "            lst_positions.append(pos1dim_minus)\n",
    "            lst_positions.append(pos1dim_plus)\n",
    "        return lst_positions\n",
    "\n",
    "    def update(self, steps):\n",
    "        for step in np.arange(steps):\n",
    "            diff_energy = 0.0\n",
    "            for pos1dim in np.arange(self.num_of_elms):\n",
    "                diff_energy = 2 * self.spin_config1dim[pos1dim] * (self.coupling\n",
    "                                                                   * np.sum([ self.spin_config1dim[pos_nhs]\n",
    "                                                                             for pos_nhs in self._neighborhoods1dim_lst(pos1dim, 1)])\n",
    "                                                                   + self.ex_field)\n",
    "                if (diff_energy <= 0) or (np.random.rand() < np.exp(-diff_energy/self.temp)):\n",
    "                    self.energy += diff_energy\n",
    "                    self._flip_spin(pos1dim)\n",
    "                    \n",
    "    def get_magnetization(self, interval_steps=0):\n",
    "        self.update(interval_steps)\n",
    "        return np.mean(self.spin_config1dim)\n",
    "    \n",
    "    def display_magnetization(self, temp_start_stop_step, update_steps=10, sample_size=10, sampling_interval=1):\n",
    "        temp_memo = self.temp\n",
    "        spin_config_memo = self.spin_config1dim\n",
    "        start, stop, step = temp_start_stop_step\n",
    "        temp_lst, mag_lst = np.flip(np.arange(start, stop, step)), []\n",
    "        tmp_mag = 0.0\n",
    "        for tmp_temp in temp_lst:\n",
    "            self.temp = tmp_temp\n",
    "            self.update(update_steps)\n",
    "            mag_lst.append(np.mean([self.get_magnetization(sampling_interval) for _ in np.arange(sample_size)]))\n",
    "        self.temp = temp_memo\n",
    "        self.spin_config1dim = spin_config_memo\n",
    "        # plot\n",
    "        plt.plot(temp_lst, mag_lst)\n",
    "        plt.grid(True)\n",
    "        plt.ylabel(\"magnetization per cite\")\n",
    "        plt.xlabel(\"temperature\")\n",
    "        plt.xlim(round(temp_lst[-1],1), round(temp_lst[0],1))\n",
    "        plt.show()"
   ]
  },
  {
   "cell_type": "markdown",
   "metadata": {},
   "source": [
    "# Some tests"
   ]
  },
  {
   "cell_type": "code",
   "execution_count": 3,
   "metadata": {
    "ExecuteTime": {
     "end_time": "2020-05-17T05:38:57.445685Z",
     "start_time": "2020-05-17T05:38:56.029115Z"
    }
   },
   "outputs": [
    {
     "name": "stdout",
     "output_type": "stream",
     "text": [
      "16.0\n",
      "-1256.0\n"
     ]
    },
    {
     "data": {
      "image/png": "[encoded data removed]",
      "text/plain": [
       "<Figure size 432x288 with 1 Axes>"
      ]
     },
     "metadata": {},
     "output_type": "display_data"
    },
    {
     "data": {
      "image/png": "[encoded data removed]",
      "text/plain": [
       "<Figure size 432x288 with 1 Axes>"
      ]
     },
     "metadata": {},
     "output_type": "display_data"
    }
   ],
   "source": [
    "ising2d = IsingModel_MC((32,32))\n",
    "ising2d.initialize()\n",
    "print(ising2d.energy)\n",
    "ising2d.display_heatmap()\n",
    "ising2d.update(10)\n",
    "ising2d.display_heatmap()\n",
    "print(ising2d.energy)"
   ]
  },
  {
   "cell_type": "code",
   "execution_count": 4,
   "metadata": {
    "ExecuteTime": {
     "end_time": "2020-05-17T06:20:32.187729Z",
     "start_time": "2020-05-17T05:40:30.955203Z"
    }
   },
   "outputs": [
    {
     "data": {
      "image/png": "[encoded data removed]",
      "text/plain": [
       "<Figure size 432x288 with 1 Axes>"
      ]
     },
     "metadata": {
      "needs_background": "light"
     },
     "output_type": "display_data"
    },
    {
     "name": "stdout",
     "output_type": "stream",
     "text": [
      "CPU times: user 40min, sys: 500 ms, total: 40min\n",
      "Wall time: 40min 1s\n"
     ]
    }
   ],
   "source": [
    "%%time\n",
    "ising2d.display_magnetization([0.01, 4.1, 0.1], update_steps=100, sample_size=400)"
   ]
  },
  {
   "cell_type": "code",
   "execution_count": 194,
   "metadata": {
    "ExecuteTime": {
     "end_time": "2020-05-16T15:49:38.688369Z",
     "start_time": "2020-05-16T14:49:36.594534Z"
    }
   },
   "outputs": [
    {
     "data": {
      "image/png": "[encoded data removed]",
      "text/plain": [
       "<Figure size 432x288 with 1 Axes>"
      ]
     },
     "metadata": {
      "needs_background": "light"
     },
     "output_type": "display_data"
    },
    {
     "name": "stdout",
     "output_type": "stream",
     "text": [
      "CPU times: user 1h, sys: 1.88 s, total: 1h 2s\n",
      "Wall time: 1h 2s\n"
     ]
    }
   ],
   "source": [
    "%%time\n",
    "ising3d = IsingModel_MC((16,16,16))\n",
    "ising3d.initialize()\n",
    "ising3d.display_magnetization([0.01, 7.2, 0.15], update_steps=40, sample_size=60)"
   ]
  },
  {
   "cell_type": "code",
   "execution_count": null,
   "metadata": {},
   "outputs": [],
   "source": []
  }
 ],
 "metadata": {
  "kernelspec": {
   "display_name": "venv35",
   "language": "python",
   "name": "venv35"
  },
  "language_info": {
   "codemirror_mode": {
    "name": "ipython",
    "version": 3
   },
   "file_extension": ".py",
   "mimetype": "text/x-python",
   "name": "python",
   "nbconvert_exporter": "python",
   "pygments_lexer": "ipython3",
   "version": "3.5.2"
  }
 },
 "nbformat": 4,
 "nbformat_minor": 2
}
